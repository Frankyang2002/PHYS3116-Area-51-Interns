{
 "cells": [
  {
   "cell_type": "markdown",
   "id": "7dcecabd7ced730b",
   "metadata": {},
   "source": [
    "# PHYS3116 Computational Assessment: Area 51 Interns"
   ]
  },
  {
   "cell_type": "code",
   "execution_count": 2,
   "id": "709eebc55b898d0b",
   "metadata": {
    "ExecuteTime": {
     "end_time": "2024-09-12T06:32:34.618445Z",
     "start_time": "2024-09-12T06:32:34.612603Z"
    }
   },
   "outputs": [],
   "source": [
    "import matplotlib.pyplot as plt\n",
    "import numpy as np\n",
    "import pandas as pd"
   ]
  },
  {
   "cell_type": "markdown",
   "id": "c589291b6e6a298c",
   "metadata": {},
   "source": [
    "## Introduction to assessment\n",
    "**Option 1: Accreted Milky Way Globular Clusters**\n",
    "\n",
    "Using data from the Harris Catalogue of Milky Way globular clusters and vandenBerg et al. (2013), use\n",
    "stellar population (metallicities [Fe/H] and ages) and dynamical information to identify potentially\n",
    "accreted globular clusters. Consider if there are some globular clusters that stand out in the agemetallicity relation or that do not rotate with the bulk of other globular clusters.\n",
    "\n",
    "Consider what the above findings might mean for how the Milky Way formed and how many of its\n",
    "globular clusters could be accreted and how many may have formed within the Milky Way. Consider\n",
    "what further tests could be performed to delineate various possible formation scenarios.\n",
    "\n",
    "Reformatted .csv versions of relevant data tables have been uploaded to Moodle for convenience."
   ]
  },
  {
   "cell_type": "markdown",
   "id": "ee9915b4d483fce0",
   "metadata": {},
   "source": [
    "## 1) Extracting data from .csv files\n",
    "\n",
    "- Extracting stellar population (metallicities [Fe/H] and ages) information from Krause21.csv by Dan."
   ]
  },
  {
   "cell_type": "code",
   "execution_count": 3,
   "id": "c640cf87e7ecd863",
   "metadata": {
    "ExecuteTime": {
     "end_time": "2024-09-12T06:32:36.250182Z",
     "start_time": "2024-09-12T06:32:36.240535Z"
    }
   },
   "outputs": [],
   "source": [
    "# Extract the metallicity and age of a series of globular clusters\n",
    "krause = pd.read_csv('Krause21.csv')\n",
    "krause['FeH'] = pd.to_numeric(krause['FeH'], errors='coerce')\n",
    "krause['Age'] = pd.to_numeric(krause['Age'], errors='coerce')"
   ]
  },
  {
   "cell_type": "markdown",
   "id": "83b295cf",
   "metadata": {},
   "source": [
    "- Extracting stellar population (metallicities [Fe/H] and ages) dynamical information from HarrisPartI.csv and HarrisPartIII.csv by Trong."
   ]
  },
  {
   "cell_type": "code",
   "execution_count": 4,
   "id": "99c328ca",
   "metadata": {},
   "outputs": [],
   "source": [
    "# Import data from HarrisPartI.csv and HarrisPartIII.csv\n",
    "harris_p1 = pd.read_csv('HarrisPartI.csv')\n",
    "harris_p3 = pd.read_csv('HarrisPartIII.csv')\n",
    "\n",
    "# Extract dynamical information from HarrisPartIII.csv\n",
    "# Except \"ID\" and \"mu_V\" which is surface brightness (photometric, not directly dynamical)\n",
    "for col_name in harris_p3.columns:\n",
    "    if col_name not in [\"ID\", \"mu_V\"]:\n",
    "        harris_p3[col_name] = pd.to_numeric(harris_p3[col_name], errors='coerce')\n"
   ]
  },
  {
   "cell_type": "markdown",
   "id": "8bf6f1a3",
   "metadata": {},
   "source": [
    "- Extracting stellar population (metallicities [Fe/H] and ages) from vandenBerg_table2.csv by Frank."
   ]
  },
  {
   "cell_type": "code",
   "execution_count": 5,
   "id": "582fc1f9",
   "metadata": {},
   "outputs": [],
   "source": [
    "# Import data from HarrisPartI.csv and HarrisPartIII.csv\n",
    "vandenberg = pd.read_csv('vandenBerg_table2.csv')\n",
    "vandenberg['FeH'] = pd.to_numeric(vandenberg['FeH'], errors='coerce')\n",
    "vandenberg['Age'] = pd.to_numeric(vandenberg['Age'], errors='coerce')\n"
   ]
  }
 ],
 "metadata": {
  "kernelspec": {
   "display_name": "Python 3",
   "language": "python",
   "name": "python3"
  },
  "language_info": {
   "codemirror_mode": {
    "name": "ipython",
    "version": 3
   },
   "file_extension": ".py",
   "mimetype": "text/x-python",
   "name": "python",
   "nbconvert_exporter": "python",
   "pygments_lexer": "ipython3",
   "version": "3.13.0"
  }
 },
 "nbformat": 4,
 "nbformat_minor": 5
}

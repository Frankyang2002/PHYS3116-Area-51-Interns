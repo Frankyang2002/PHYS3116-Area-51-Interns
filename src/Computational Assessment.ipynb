{
 "cells": [
  {
   "cell_type": "markdown",
   "id": "7dcecabd7ced730b",
   "metadata": {},
   "source": [
    "# PHYS3116 Computational Assessment: Area 51 Interns"
   ]
  },
  {
   "cell_type": "code",
   "execution_count": 3,
   "id": "709eebc55b898d0b",
   "metadata": {
    "ExecuteTime": {
     "end_time": "2024-09-12T06:32:34.618445Z",
     "start_time": "2024-09-12T06:32:34.612603Z"
    }
   },
   "outputs": [],
   "source": [
    "import matplotlib.pyplot as plt\n",
    "import numpy as np\n",
    "import pandas as pd"
   ]
  },
  {
   "cell_type": "markdown",
   "id": "c589291b6e6a298c",
   "metadata": {},
   "source": [
    "## Introduction to assessment\n",
    "**Option 1: Accreted Milky Way Globular Clusters**\n",
    "\n",
    "Using data from the Harris Catalogue of Milky Way globular clusters and vandenBerg et al. (2013), use\n",
    "stellar population (metallicities [Fe/H] and ages) and dynamical information to identify potentially\n",
    "accreted globular clusters. Consider if there are some globular clusters that stand out in the agemetallicity relation or that do not rotate with the bulk of other globular clusters.\n",
    "\n",
    "Consider what the above findings might mean for how the Milky Way formed and how many of its\n",
    "globular clusters could be accreted and how many may have formed within the Milky Way. Consider\n",
    "what further tests could be performed to delineate various possible formation scenarios.\n",
    "\n",
    "Reformatted .csv versions of relevant data tables have been uploaded to Moodle for convenience."
   ]
  },
  {
   "cell_type": "markdown",
   "id": "ee9915b4d483fce0",
   "metadata": {},
   "source": [
    "## 1) Extracting data from .csv files\n",
    "\n",
    "- Extracting stellar population (metallicities [Fe/H] and ages) information from Krause21.csv by Dan."
   ]
  },
  {
   "cell_type": "code",
   "execution_count": null,
   "id": "c640cf87e7ecd863",
   "metadata": {
    "ExecuteTime": {
     "end_time": "2024-09-12T06:32:36.250182Z",
     "start_time": "2024-09-12T06:32:36.240535Z"
    }
   },
   "outputs": [
    {
     "data": {
      "text/html": [
       "<div>\n",
       "<style scoped>\n",
       "    .dataframe tbody tr th:only-of-type {\n",
       "        vertical-align: middle;\n",
       "    }\n",
       "\n",
       "    .dataframe tbody tr th {\n",
       "        vertical-align: top;\n",
       "    }\n",
       "\n",
       "    .dataframe thead th {\n",
       "        text-align: right;\n",
       "    }\n",
       "</style>\n",
       "<table border=\"1\" class=\"dataframe\">\n",
       "  <thead>\n",
       "    <tr style=\"text-align: right;\">\n",
       "      <th></th>\n",
       "      <th>Class</th>\n",
       "      <th>Object</th>\n",
       "      <th>AltName</th>\n",
       "      <th>Mstar</th>\n",
       "      <th>rh</th>\n",
       "      <th>C5</th>\n",
       "      <th>Age</th>\n",
       "      <th>FeH</th>\n",
       "    </tr>\n",
       "  </thead>\n",
       "  <tbody>\n",
       "    <tr>\n",
       "      <th>0</th>\n",
       "      <td>GC</td>\n",
       "      <td>NGC104</td>\n",
       "      <td>47Tuc</td>\n",
       "      <td>6.46</td>\n",
       "      <td>7.10</td>\n",
       "      <td>0.92</td>\n",
       "      <td>12.80</td>\n",
       "      <td>-0.76</td>\n",
       "    </tr>\n",
       "    <tr>\n",
       "      <th>1</th>\n",
       "      <td>GC</td>\n",
       "      <td>NGC288</td>\n",
       "      <td>Melotte3</td>\n",
       "      <td>0.46</td>\n",
       "      <td>9.80</td>\n",
       "      <td>0.05</td>\n",
       "      <td>12.20</td>\n",
       "      <td>-1.32</td>\n",
       "    </tr>\n",
       "    <tr>\n",
       "      <th>2</th>\n",
       "      <td>GC</td>\n",
       "      <td>NGC362</td>\n",
       "      <td>Dunlop62</td>\n",
       "      <td>2.50</td>\n",
       "      <td>3.50</td>\n",
       "      <td>0.72</td>\n",
       "      <td>10.00</td>\n",
       "      <td>-1.26</td>\n",
       "    </tr>\n",
       "    <tr>\n",
       "      <th>3</th>\n",
       "      <td>GC</td>\n",
       "      <td>NGC1261</td>\n",
       "      <td>Caldwell87</td>\n",
       "      <td>3.41</td>\n",
       "      <td>5.50</td>\n",
       "      <td>0.62</td>\n",
       "      <td>10.24</td>\n",
       "      <td>-1.08</td>\n",
       "    </tr>\n",
       "    <tr>\n",
       "      <th>4</th>\n",
       "      <td>GC</td>\n",
       "      <td>NGC1851</td>\n",
       "      <td>Dunlop508</td>\n",
       "      <td>5.51</td>\n",
       "      <td>3.05</td>\n",
       "      <td>1.81</td>\n",
       "      <td>7.64</td>\n",
       "      <td>-1.13</td>\n",
       "    </tr>\n",
       "  </tbody>\n",
       "</table>\n",
       "</div>"
      ],
      "text/plain": [
       "  Class   Object     AltName  Mstar    rh    C5    Age   FeH\n",
       "0    GC   NGC104       47Tuc   6.46  7.10  0.92  12.80 -0.76\n",
       "1    GC   NGC288    Melotte3   0.46  9.80  0.05  12.20 -1.32\n",
       "2    GC   NGC362    Dunlop62   2.50  3.50  0.72  10.00 -1.26\n",
       "3    GC  NGC1261  Caldwell87   3.41  5.50  0.62  10.24 -1.08\n",
       "4    GC  NGC1851   Dunlop508   5.51  3.05  1.81   7.64 -1.13"
      ]
     },
     "execution_count": 15,
     "metadata": {},
     "output_type": "execute_result"
    }
   ],
   "source": [
    "# Extract the metallicity and age of a series of globular clusters\n",
    "krause = pd.read_csv('Krause21.csv')\n",
    "krause['FeH'] = pd.to_numeric(krause['FeH'], errors='coerce')\n",
    "krause['Age'] = pd.to_numeric(krause['Age'], errors='coerce')"
   ]
  },
  {
   "cell_type": "markdown",
   "id": "83b295cf",
   "metadata": {},
   "source": [
    "- Extracting stellar population (metallicities [Fe/H] and ages) dynamical information from HarrisPartI.csv and HarrisPartIII.csv by Trong."
   ]
  },
  {
   "cell_type": "code",
   "execution_count": 14,
   "id": "99c328ca",
   "metadata": {},
   "outputs": [],
   "source": [
    "# Import data from HarrisPartI.csv and HarrisPartIII.csv\n",
    "harris_p1 = pd.read_csv('HarrisPartI.csv')\n",
    "harris_p3 = pd.read_csv('HarrisPartIII.csv')\n",
    "\n",
    "# Extract dynamical information from HarrisPartIII.csv\n",
    "# Except \"ID\" and \"mu_V\" which is surface brightness (photometric, not directly dynamical)\n",
    "for col_name in harris_p3.columns:\n",
    "    if col_name not in [\"ID\", \"mu_V\"]:\n",
    "        harris_p3[col_name] = pd.to_numeric(harris_p3[col_name], errors='coerce')\n"
   ]
  },
  {
   "cell_type": "markdown",
   "id": "8bf6f1a3",
   "metadata": {},
   "source": [
    "- Extracting stellar population (metallicities [Fe/H] and ages) from vandenBerg_table2.csv by Frank."
   ]
  },
  {
   "cell_type": "code",
   "execution_count": null,
   "id": "582fc1f9",
   "metadata": {},
   "outputs": [],
   "source": [
    "# Import data from HarrisPartI.csv and HarrisPartIII.csv\n",
    "vandenberg = pd.read_csv('vandenBerg_table2.csv')\n",
    "vandenberg['FeH'] = pd.to_numeric(vandenberg['FeH'], errors='coerce')\n",
    "vandenberg['Age'] = pd.to_numeric(vandenberg['Age'], errors='coerce')\n"
   ]
  }
 ],
 "metadata": {
  "kernelspec": {
   "display_name": "base",
   "language": "python",
   "name": "python3"
  },
  "language_info": {
   "codemirror_mode": {
    "name": "ipython",
    "version": 3
   },
   "file_extension": ".py",
   "mimetype": "text/x-python",
   "name": "python",
   "nbconvert_exporter": "python",
   "pygments_lexer": "ipython3",
   "version": "3.12.4"
  }
 },
 "nbformat": 4,
 "nbformat_minor": 5
}

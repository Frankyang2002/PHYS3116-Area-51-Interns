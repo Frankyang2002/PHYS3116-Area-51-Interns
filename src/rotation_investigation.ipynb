{
 "cells": [
  {
   "cell_type": "markdown",
   "id": "7dcecabd7ced730b",
   "metadata": {},
   "source": [
    "# PHYS3116 Computational Assessment: Area 51 Interns"
   ]
  },
  {
   "cell_type": "code",
   "execution_count": 2,
   "id": "709eebc55b898d0b",
   "metadata": {
    "ExecuteTime": {
     "end_time": "2024-09-12T06:32:34.618445Z",
     "start_time": "2024-09-12T06:32:34.612603Z"
    }
   },
   "outputs": [],
   "source": [
    "import matplotlib.pyplot as plt\n",
    "import numpy as np\n",
    "import pandas as pd\n",
    "from scipy import stats\n",
    "from scipy.signal import find_peaks"
   ]
  },
  {
   "cell_type": "markdown",
   "id": "c589291b6e6a298c",
   "metadata": {},
   "source": [
    "## Introduction to assessment\n",
    "**Accreted Milky Way Globular Clusters**\n",
    "\n",
    "Using data from the Harris Catalogue of Milky Way globular clusters and vandenBerg et al. (2013), use\n",
    "stellar population (metallicities [Fe/H] and ages) and dynamical information to identify potentially\n",
    "accreted globular clusters. Consider if there are some globular clusters that stand out in the agemetallicity relation or that do not rotate with the bulk of other globular clusters.\n",
    "\n",
    "Consider what the above findings might mean for how the Milky Way formed and how many of its\n",
    "globular clusters could be accreted and how many may have formed within the Milky Way. Consider\n",
    "what further tests could be performed to delineate various possible formation scenarios.\n",
    "\n",
    "Reformatted .csv versions of relevant data tables have been uploaded to Moodle for convenience."
   ]
  },
  {
   "cell_type": "markdown",
   "id": "0a943efa",
   "metadata": {},
   "source": [
    "## Introduction to this file\n",
    "This file investigates potential accreted globular clusters through co-rotation the clusters\n",
    "\n",
    "\n",
    "To get co-rotation we need to do the following steps:\n",
    "1. Convert radial velocity into the galactic standard of rest so it is no longer relative to the sun or our solar system but to the galaxy\n",
    "2. We obtain the average rotation formula for the average rotation patterns of each cluster through Galaxy LOS velocity\n",
    "3. We apply this formula to each cluster for a projected velocity based on its coordinates\n",
    "4. For each cluster, we compare projected and actual Galaxy LOS Velocity and we determine co-rotation through it"
   ]
  },
  {
   "cell_type": "markdown",
   "id": "13df96c7",
   "metadata": {},
   "source": [
    "## 0) Merging CSV files"
   ]
  },
  {
   "cell_type": "code",
   "execution_count": 3,
   "id": "331beb77",
   "metadata": {},
   "outputs": [
    {
     "data": {
      "text/html": [
       "<div>\n",
       "<style scoped>\n",
       "    .dataframe tbody tr th:only-of-type {\n",
       "        vertical-align: middle;\n",
       "    }\n",
       "\n",
       "    .dataframe tbody tr th {\n",
       "        vertical-align: top;\n",
       "    }\n",
       "\n",
       "    .dataframe thead th {\n",
       "        text-align: right;\n",
       "    }\n",
       "</style>\n",
       "<table border=\"1\" class=\"dataframe\">\n",
       "  <thead>\n",
       "    <tr style=\"text-align: right;\">\n",
       "      <th></th>\n",
       "      <th>ID</th>\n",
       "      <th>Name</th>\n",
       "      <th>RA</th>\n",
       "      <th>DEC</th>\n",
       "      <th>L</th>\n",
       "      <th>B</th>\n",
       "      <th>R_Sun</th>\n",
       "      <th>R_gc</th>\n",
       "      <th>X</th>\n",
       "      <th>Y</th>\n",
       "      <th>...</th>\n",
       "      <th>v_LSR</th>\n",
       "      <th>sig_v</th>\n",
       "      <th>sig_v_e</th>\n",
       "      <th>c</th>\n",
       "      <th>r_c</th>\n",
       "      <th>r_h</th>\n",
       "      <th>mu_V</th>\n",
       "      <th>rho_0</th>\n",
       "      <th>lg_tc</th>\n",
       "      <th>lg_th</th>\n",
       "    </tr>\n",
       "  </thead>\n",
       "  <tbody>\n",
       "    <tr>\n",
       "      <th>0</th>\n",
       "      <td>1636-283</td>\n",
       "      <td>ESO452-SC11</td>\n",
       "      <td>16:39:25.45</td>\n",
       "      <td>-28:23:55.3</td>\n",
       "      <td>351.91</td>\n",
       "      <td>12.10</td>\n",
       "      <td>8.3</td>\n",
       "      <td>2.1</td>\n",
       "      <td>8.0</td>\n",
       "      <td>-1.1</td>\n",
       "      <td>...</td>\n",
       "      <td>NaN</td>\n",
       "      <td>NaN</td>\n",
       "      <td>NaN</td>\n",
       "      <td>1.00</td>\n",
       "      <td>0.50</td>\n",
       "      <td>0.50</td>\n",
       "      <td>20.75</td>\n",
       "      <td>2.50</td>\n",
       "      <td>8.07</td>\n",
       "      <td>7.87</td>\n",
       "    </tr>\n",
       "    <tr>\n",
       "      <th>1</th>\n",
       "      <td>2MS-GC01</td>\n",
       "      <td>2MASS-GC01</td>\n",
       "      <td>18:08:21.81</td>\n",
       "      <td>-19:49:47</td>\n",
       "      <td>10.48</td>\n",
       "      <td>0.11</td>\n",
       "      <td>3.6</td>\n",
       "      <td>4.5</td>\n",
       "      <td>3.5</td>\n",
       "      <td>0.7</td>\n",
       "      <td>...</td>\n",
       "      <td>NaN</td>\n",
       "      <td>NaN</td>\n",
       "      <td>NaN</td>\n",
       "      <td>0.85</td>\n",
       "      <td>0.85</td>\n",
       "      <td>1.65</td>\n",
       "      <td>NaN</td>\n",
       "      <td>NaN</td>\n",
       "      <td>NaN</td>\n",
       "      <td>8.43</td>\n",
       "    </tr>\n",
       "    <tr>\n",
       "      <th>2</th>\n",
       "      <td>2MS-GC02</td>\n",
       "      <td>2MASS-GC02</td>\n",
       "      <td>18:09:36.50</td>\n",
       "      <td>-20:46:44</td>\n",
       "      <td>9.79</td>\n",
       "      <td>-0.61</td>\n",
       "      <td>4.9</td>\n",
       "      <td>3.2</td>\n",
       "      <td>4.9</td>\n",
       "      <td>0.8</td>\n",
       "      <td>...</td>\n",
       "      <td>-227.4</td>\n",
       "      <td>NaN</td>\n",
       "      <td>NaN</td>\n",
       "      <td>0.95</td>\n",
       "      <td>0.55</td>\n",
       "      <td>0.55</td>\n",
       "      <td>NaN</td>\n",
       "      <td>NaN</td>\n",
       "      <td>NaN</td>\n",
       "      <td>7.72</td>\n",
       "    </tr>\n",
       "    <tr>\n",
       "      <th>3</th>\n",
       "      <td>AM 1</td>\n",
       "      <td>E 1</td>\n",
       "      <td>03:55:02.3</td>\n",
       "      <td>-49:36:55</td>\n",
       "      <td>258.34</td>\n",
       "      <td>-48.47</td>\n",
       "      <td>123.3</td>\n",
       "      <td>124.6</td>\n",
       "      <td>-16.5</td>\n",
       "      <td>-80.1</td>\n",
       "      <td>...</td>\n",
       "      <td>101.3</td>\n",
       "      <td>NaN</td>\n",
       "      <td>NaN</td>\n",
       "      <td>1.36</td>\n",
       "      <td>0.17</td>\n",
       "      <td>0.41</td>\n",
       "      <td>23.62</td>\n",
       "      <td>0.03</td>\n",
       "      <td>8.96</td>\n",
       "      <td>9.61</td>\n",
       "    </tr>\n",
       "    <tr>\n",
       "      <th>4</th>\n",
       "      <td>AM 4</td>\n",
       "      <td>NaN</td>\n",
       "      <td>13:56:21.7</td>\n",
       "      <td>-27:10:03</td>\n",
       "      <td>320.28</td>\n",
       "      <td>33.51</td>\n",
       "      <td>32.2</td>\n",
       "      <td>27.8</td>\n",
       "      <td>20.7</td>\n",
       "      <td>-17.2</td>\n",
       "      <td>...</td>\n",
       "      <td>NaN</td>\n",
       "      <td>NaN</td>\n",
       "      <td>NaN</td>\n",
       "      <td>0.70</td>\n",
       "      <td>0.41</td>\n",
       "      <td>0.43</td>\n",
       "      <td>24.75</td>\n",
       "      <td>-0.05</td>\n",
       "      <td>8.42</td>\n",
       "      <td>8.32</td>\n",
       "    </tr>\n",
       "  </tbody>\n",
       "</table>\n",
       "<p>5 rows × 23 columns</p>\n",
       "</div>"
      ],
      "text/plain": [
       "         ID         Name           RA          DEC       L      B  R_Sun  \\\n",
       "0  1636-283  ESO452-SC11  16:39:25.45  -28:23:55.3  351.91  12.10    8.3   \n",
       "1  2MS-GC01   2MASS-GC01  18:08:21.81    -19:49:47   10.48   0.11    3.6   \n",
       "2  2MS-GC02   2MASS-GC02  18:09:36.50    -20:46:44    9.79  -0.61    4.9   \n",
       "3      AM 1          E 1   03:55:02.3    -49:36:55  258.34 -48.47  123.3   \n",
       "4      AM 4          NaN   13:56:21.7    -27:10:03  320.28  33.51   32.2   \n",
       "\n",
       "    R_gc     X     Y  ...  v_LSR  sig_v  sig_v_e     c   r_c   r_h   mu_V  \\\n",
       "0    2.1   8.0  -1.1  ...    NaN    NaN      NaN  1.00  0.50  0.50  20.75   \n",
       "1    4.5   3.5   0.7  ...    NaN    NaN      NaN  0.85  0.85  1.65    NaN   \n",
       "2    3.2   4.9   0.8  ... -227.4    NaN      NaN  0.95  0.55  0.55    NaN   \n",
       "3  124.6 -16.5 -80.1  ...  101.3    NaN      NaN  1.36  0.17  0.41  23.62   \n",
       "4   27.8  20.7 -17.2  ...    NaN    NaN      NaN  0.70  0.41  0.43  24.75   \n",
       "\n",
       "   rho_0  lg_tc  lg_th  \n",
       "0   2.50   8.07   7.87  \n",
       "1    NaN    NaN   8.43  \n",
       "2    NaN    NaN   7.72  \n",
       "3   0.03   8.96   9.61  \n",
       "4  -0.05   8.42   8.32  \n",
       "\n",
       "[5 rows x 23 columns]"
      ]
     },
     "execution_count": 3,
     "metadata": {},
     "output_type": "execute_result"
    }
   ],
   "source": [
    "harris1 = pd.read_csv('HarrisPartI.csv')\n",
    "harris3 = pd.read_csv('HarrisPartIII.csv')\n",
    "merge = pd.merge(harris1, harris3, on='ID', how='outer')\n",
    "merge.head()"
   ]
  },
  {
   "cell_type": "markdown",
   "id": "ee9915b4d483fce0",
   "metadata": {},
   "source": [
    "## 1) Extracting data from .csv files\n"
   ]
  },
  {
   "cell_type": "markdown",
   "id": "53cbf9d1",
   "metadata": {},
   "source": [
    "The data columns we need are:\n",
    "- l and b for positions and projections\n",
    "- $v_{lsr}$, as it is 'Radial velocity relative to Solar neighborhood LSR', so we dont need to take in account the sun's deviations in movement. So we use this instead of $v_r$\n",
    "- Additionally we will remove data that has NA for $v_{LSR}$ as we are unable to use such data for our purposes"
   ]
  },
  {
   "cell_type": "code",
   "execution_count": 18,
   "id": "582fc1f9",
   "metadata": {},
   "outputs": [
    {
     "data": {
      "text/html": [
       "<div>\n",
       "<style scoped>\n",
       "    .dataframe tbody tr th:only-of-type {\n",
       "        vertical-align: middle;\n",
       "    }\n",
       "\n",
       "    .dataframe tbody tr th {\n",
       "        vertical-align: top;\n",
       "    }\n",
       "\n",
       "    .dataframe thead th {\n",
       "        text-align: right;\n",
       "    }\n",
       "</style>\n",
       "<table border=\"1\" class=\"dataframe\">\n",
       "  <thead>\n",
       "    <tr style=\"text-align: right;\">\n",
       "      <th></th>\n",
       "      <th>ID</th>\n",
       "      <th>L</th>\n",
       "      <th>B</th>\n",
       "      <th>v_LSR</th>\n",
       "    </tr>\n",
       "  </thead>\n",
       "  <tbody>\n",
       "    <tr>\n",
       "      <th>2</th>\n",
       "      <td>2MS-GC02</td>\n",
       "      <td>9.79</td>\n",
       "      <td>-0.61</td>\n",
       "      <td>-227.4</td>\n",
       "    </tr>\n",
       "    <tr>\n",
       "      <th>3</th>\n",
       "      <td>AM 1</td>\n",
       "      <td>258.34</td>\n",
       "      <td>-48.47</td>\n",
       "      <td>101.3</td>\n",
       "    </tr>\n",
       "    <tr>\n",
       "      <th>5</th>\n",
       "      <td>Arp 2</td>\n",
       "      <td>8.55</td>\n",
       "      <td>-20.79</td>\n",
       "      <td>122.4</td>\n",
       "    </tr>\n",
       "    <tr>\n",
       "      <th>8</th>\n",
       "      <td>Djorg 1</td>\n",
       "      <td>356.69</td>\n",
       "      <td>-2.47</td>\n",
       "      <td>-355.0</td>\n",
       "    </tr>\n",
       "    <tr>\n",
       "      <th>12</th>\n",
       "      <td>Eridanus</td>\n",
       "      <td>218.10</td>\n",
       "      <td>-41.33</td>\n",
       "      <td>-39.1</td>\n",
       "    </tr>\n",
       "  </tbody>\n",
       "</table>\n",
       "</div>"
      ],
      "text/plain": [
       "          ID       L      B  v_LSR\n",
       "2   2MS-GC02    9.79  -0.61 -227.4\n",
       "3       AM 1  258.34 -48.47  101.3\n",
       "5      Arp 2    8.55 -20.79  122.4\n",
       "8    Djorg 1  356.69  -2.47 -355.0\n",
       "12  Eridanus  218.10 -41.33  -39.1"
      ]
     },
     "execution_count": 18,
     "metadata": {},
     "output_type": "execute_result"
    }
   ],
   "source": [
    "# We choose right columns that we care about\n",
    "rotation_data = merge[['ID', 'L', 'B', 'v_LSR']]\n",
    "\n",
    "# Get rid of rows we dont care about, because we lack the v_LSR for them\n",
    "rotation_data = rotation_data.dropna(subset=['v_LSR'])\n",
    "rotation_data.head()\n"
   ]
  },
  {
   "cell_type": "markdown",
   "id": "d2bed768",
   "metadata": {},
   "source": [
    "## 2) Conversion to Galactic Standard of Rest\n",
    "\n",
    "Now we convert $v_{LSR}$ in to $v_{GSR}$. This is done by the following formula:\n",
    "\n",
    "$v_{GSR} = v_{LSR} + V_{LSR}sin(l)cos(b)$\n",
    "\n",
    "We add the component \n",
    "\n",
    "where $V_{LSR}$ = 220 km/s (from https://www.sfu.ca/~boal/390lecs/390lec31.pdf), which is tangential component of Sun's motion with respect to the galactic center\n",
    "\n",
    "Now we append this to the data:"
   ]
  },
  {
   "cell_type": "code",
   "execution_count": null,
   "id": "8a2953cb",
   "metadata": {},
   "outputs": [],
   "source": [
    "V_LSR = 220\n",
    "rotation_data['v_GSR'] = rotation_data['v_LSR'] + V_LSR * np.sin(np.radians(rotation_data['L'])) * np.cos(np.radians(rotation_data['B']))\n",
    "rotation_data.head()"
   ]
  },
  {
   "cell_type": "markdown",
   "id": "e6e5f92f",
   "metadata": {},
   "source": [
    "## 2) Displaying Relevant Data Types"
   ]
  },
  {
   "cell_type": "markdown",
   "id": "8d4057fa",
   "metadata": {},
   "source": [
    "Accreted Globular Clusters: Cluster that came from outside the Milky Way instead of made inside\n",
    "\n",
    "Aspects that help us know if a cluster is one:\n",
    "- Rotates with the same direction of the milky way, Prograde orbit\n",
    "  - Hard for milky way to make retrograde, but still possible  \n",
    "- Metallicity age relation generally follows a set track\n",
    "  - Acrete has less metallicity for its age due to less enrichment due to less generations of stars\n",
    "- Acreted are more further away from galaxy center as non-acreted are more likely to be in the center\n"
   ]
  },
  {
   "cell_type": "code",
   "execution_count": null,
   "id": "089070e7",
   "metadata": {},
   "outputs": [
    {
     "data": {
      "image/png": "[encoded data removed]",
      "text/plain": [
       "<Figure size 640x480 with 2 Axes>"
      ]
     },
     "metadata": {},
     "output_type": "display_data"
    }
   ],
   "source": [
    "plt.scatter(\n",
    "    vandenberg[\"Age\"],\n",
    "    vandenberg[\"FeH\"],\n",
    "    c=[vandenberg[\"R_G\"]],\n",
    ")\n",
    "\n",
    "# Change y-limit to be between 0 and 1.5\n",
    "plt.xlabel('Age (Gyr)')\n",
    "plt.ylabel('FeH')\n",
    "cbar = plt.colorbar()\n",
    "cbar.set_label('R_G')"
   ]
  },
  {
   "cell_type": "markdown",
   "id": "bb8d21bc",
   "metadata": {},
   "source": [
    "We can get a linear regression of the line, we also have a clear outlier and we get its equation:"
   ]
  },
  {
   "cell_type": "code",
   "execution_count": null,
   "id": "4d4ea913",
   "metadata": {},
   "outputs": [
    {
     "name": "stdout",
     "output_type": "stream",
     "text": [
      "LinregressResult(slope=-0.49787772312016854, intercept=4.468926723311824, rvalue=-0.7179325112384898, pvalue=6.863504294489428e-10, stderr=0.06631025602163103, intercept_stderr=0.7908921228707789)\n",
      "Line has equation y = (-0.50 +- 0.07) * x + (4.47 +- 0.79)\n",
      "Result has R-value of -0.72 and p-value of 6.86e-10\n"
     ]
    }
   ],
   "source": [
    "# Fit a linear curve\n",
    "result = stats.linregress(vandenberg[\"Age\"], vandenberg[\"FeH\"])\n",
    "print(result)\n",
    "print(f'Line has equation y = ({result.slope:.2f} +- {result.stderr:.2f}) * x + ({result.intercept:.2f} +- {result.intercept_stderr:.2f})')\n",
    "print(f'Result has R-value of {result.rvalue:.2f} and p-value of {result.pvalue:.2e}')"
   ]
  },
  {
   "cell_type": "code",
   "execution_count": null,
   "id": "073e90e8",
   "metadata": {},
   "outputs": [
    {
     "data": {
      "text/plain": [
       "<matplotlib.legend.Legend at 0x160e25ac620>"
      ]
     },
     "execution_count": 10,
     "metadata": {},
     "output_type": "execute_result"
    },
    {
     "data": {
      "image/png": "[encoded data removed]",
      "text/plain": [
       "<Figure size 640x480 with 1 Axes>"
      ]
     },
     "metadata": {},
     "output_type": "display_data"
    }
   ],
   "source": [
    "plt.scatter(\n",
    "    vandenberg[\"Age\"],\n",
    "    vandenberg[\"FeH\"],\n",
    "    c=[vandenberg[\"R_G\"]],\n",
    ")\n",
    "\n",
    "# Adding LOB to graph\n",
    "plt.plot(\n",
    "    vandenberg[\"Age\"], result.slope * vandenberg[\"Age\"] + result.intercept,\n",
    "    label=f'y = {result.slope:.2f} * x + {result.slope:.2f}'\n",
    ")\n",
    "plt.legend()"
   ]
  }
 ],
 "metadata": {
  "kernelspec": {
   "display_name": "base",
   "language": "python",
   "name": "python3"
  },
  "language_info": {
   "codemirror_mode": {
    "name": "ipython",
    "version": 3
   },
   "file_extension": ".py",
   "mimetype": "text/x-python",
   "name": "python",
   "nbconvert_exporter": "python",
   "pygments_lexer": "ipython3",
   "version": "3.12.4"
  }
 },
 "nbformat": 4,
 "nbformat_minor": 5
}

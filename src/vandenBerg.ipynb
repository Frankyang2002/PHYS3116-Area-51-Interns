{
 "cells": [
  {
   "cell_type": "markdown",
   "id": "7dcecabd7ced730b",
   "metadata": {},
   "source": [
    "# PHYS3116 Computational Assessment: Area 51 Interns"
   ]
  },
  {
   "cell_type": "code",
   "execution_count": 1,
   "id": "709eebc55b898d0b",
   "metadata": {
    "ExecuteTime": {
     "end_time": "2024-09-12T06:32:34.618445Z",
     "start_time": "2024-09-12T06:32:34.612603Z"
    }
   },
   "outputs": [],
   "source": [
    "import matplotlib.pyplot as plt\n",
    "import numpy as np\n",
    "import pandas as pd"
   ]
  },
  {
   "cell_type": "markdown",
   "id": "c589291b6e6a298c",
   "metadata": {},
   "source": [
    "## Introduction to assessment\n",
    "**Option 1: Accreted Milky Way Globular Clusters**\n",
    "\n",
    "Using data from the Harris Catalogue of Milky Way globular clusters and vandenBerg et al. (2013), use\n",
    "stellar population (metallicities [Fe/H] and ages) and dynamical information to identify potentially\n",
    "accreted globular clusters. Consider if there are some globular clusters that stand out in the agemetallicity relation or that do not rotate with the bulk of other globular clusters.\n",
    "\n",
    "Consider what the above findings might mean for how the Milky Way formed and how many of its\n",
    "globular clusters could be accreted and how many may have formed within the Milky Way. Consider\n",
    "what further tests could be performed to delineate various possible formation scenarios.\n",
    "\n",
    "Reformatted .csv versions of relevant data tables have been uploaded to Moodle for convenience."
   ]
  },
  {
   "cell_type": "markdown",
   "id": "ee9915b4d483fce0",
   "metadata": {},
   "source": [
    "## 1) Extracting data from .csv files\n"
   ]
  },
  {
   "cell_type": "markdown",
   "id": "8bf6f1a3",
   "metadata": {},
   "source": [
    "- Extracting stellar population (metallicities [Fe/H] and ages) from vandenBerg_table2.csv by Frank."
   ]
  },
  {
   "cell_type": "code",
   "execution_count": 3,
   "id": "582fc1f9",
   "metadata": {},
   "outputs": [
    {
     "data": {
      "text/html": [
       "<div>\n",
       "<style scoped>\n",
       "    .dataframe tbody tr th:only-of-type {\n",
       "        vertical-align: middle;\n",
       "    }\n",
       "\n",
       "    .dataframe tbody tr th {\n",
       "        vertical-align: top;\n",
       "    }\n",
       "\n",
       "    .dataframe thead th {\n",
       "        text-align: right;\n",
       "    }\n",
       "</style>\n",
       "<table border=\"1\" class=\"dataframe\">\n",
       "  <thead>\n",
       "    <tr style=\"text-align: right;\">\n",
       "      <th></th>\n",
       "      <th>#NGC</th>\n",
       "      <th>Name</th>\n",
       "      <th>FeH</th>\n",
       "      <th>Age</th>\n",
       "      <th>Age_err</th>\n",
       "      <th>Method</th>\n",
       "      <th>Figs</th>\n",
       "      <th>Range</th>\n",
       "      <th>HBtype</th>\n",
       "      <th>R_G</th>\n",
       "      <th>M_V</th>\n",
       "      <th>v_e0</th>\n",
       "      <th>log_sigma_0</th>\n",
       "    </tr>\n",
       "  </thead>\n",
       "  <tbody>\n",
       "    <tr>\n",
       "      <th>0</th>\n",
       "      <td>104</td>\n",
       "      <td>47Tuc</td>\n",
       "      <td>-0.76</td>\n",
       "      <td>11.75</td>\n",
       "      <td>0.25</td>\n",
       "      <td>V</td>\n",
       "      <td>14</td>\n",
       "      <td>11.50–11.75</td>\n",
       "      <td>-0.99</td>\n",
       "      <td>7.4</td>\n",
       "      <td>-9.42</td>\n",
       "      <td>54.8</td>\n",
       "      <td>5.061</td>\n",
       "    </tr>\n",
       "    <tr>\n",
       "      <th>1</th>\n",
       "      <td>288</td>\n",
       "      <td>XXXX</td>\n",
       "      <td>-1.32</td>\n",
       "      <td>11.50</td>\n",
       "      <td>0.38</td>\n",
       "      <td>H</td>\n",
       "      <td>24</td>\n",
       "      <td>NaN</td>\n",
       "      <td>0.98</td>\n",
       "      <td>12.0</td>\n",
       "      <td>-6.75</td>\n",
       "      <td>10.9</td>\n",
       "      <td>2.953</td>\n",
       "    </tr>\n",
       "    <tr>\n",
       "      <th>2</th>\n",
       "      <td>362</td>\n",
       "      <td>XXXX</td>\n",
       "      <td>-1.30</td>\n",
       "      <td>10.75</td>\n",
       "      <td>0.25</td>\n",
       "      <td>V</td>\n",
       "      <td>13</td>\n",
       "      <td>10.75–11.00</td>\n",
       "      <td>-0.87</td>\n",
       "      <td>9.4</td>\n",
       "      <td>-8.43</td>\n",
       "      <td>44.4</td>\n",
       "      <td>4.938</td>\n",
       "    </tr>\n",
       "    <tr>\n",
       "      <th>3</th>\n",
       "      <td>1261</td>\n",
       "      <td>XXXX</td>\n",
       "      <td>-1.27</td>\n",
       "      <td>10.75</td>\n",
       "      <td>0.25</td>\n",
       "      <td>V</td>\n",
       "      <td>13</td>\n",
       "      <td>10.75–11.25</td>\n",
       "      <td>-0.71</td>\n",
       "      <td>18.1</td>\n",
       "      <td>-7.80</td>\n",
       "      <td>23.6</td>\n",
       "      <td>3.913</td>\n",
       "    </tr>\n",
       "    <tr>\n",
       "      <th>4</th>\n",
       "      <td>1851</td>\n",
       "      <td>XXXX</td>\n",
       "      <td>-1.18</td>\n",
       "      <td>11.00</td>\n",
       "      <td>0.25</td>\n",
       "      <td>V</td>\n",
       "      <td>13</td>\n",
       "      <td>10.75–11.25</td>\n",
       "      <td>-0.32</td>\n",
       "      <td>16.6</td>\n",
       "      <td>-8.33</td>\n",
       "      <td>47.6</td>\n",
       "      <td>5.136</td>\n",
       "    </tr>\n",
       "  </tbody>\n",
       "</table>\n",
       "</div>"
      ],
      "text/plain": [
       "   #NGC   Name   FeH    Age  Age_err Method Figs        Range  HBtype   R_G  \\\n",
       "0   104  47Tuc -0.76  11.75     0.25      V   14  11.50–11.75   -0.99   7.4   \n",
       "1   288   XXXX -1.32  11.50     0.38      H   24          NaN    0.98  12.0   \n",
       "2   362   XXXX -1.30  10.75     0.25      V   13  10.75–11.00   -0.87   9.4   \n",
       "3  1261   XXXX -1.27  10.75     0.25      V   13  10.75–11.25   -0.71  18.1   \n",
       "4  1851   XXXX -1.18  11.00     0.25      V   13  10.75–11.25   -0.32  16.6   \n",
       "\n",
       "    M_V  v_e0  log_sigma_0  \n",
       "0 -9.42  54.8        5.061  \n",
       "1 -6.75  10.9        2.953  \n",
       "2 -8.43  44.4        4.938  \n",
       "3 -7.80  23.6        3.913  \n",
       "4 -8.33  47.6        5.136  "
      ]
     },
     "execution_count": 3,
     "metadata": {},
     "output_type": "execute_result"
    }
   ],
   "source": [
    "# Import Vandenberg data\n",
    "vandenberg = pd.read_csv('vandenBerg_table2.csv')\n",
    "vandenberg['FeH'] = pd.to_numeric(vandenberg['FeH'], errors='coerce')\n",
    "vandenberg['Age'] = pd.to_numeric(vandenberg['Age'], errors='coerce')\n",
    "\n",
    "vandenberg.head()\n"
   ]
  },
  {
   "cell_type": "markdown",
   "id": "0384986a",
   "metadata": {},
   "source": [
    "NGC: Cluster Identifier\n",
    "\n",
    "Name: The name\n",
    "\n",
    "FeH: Metallicity, iron amount\n",
    "\n",
    "Age: Cluster age and Age_err for uncertainty\n",
    "\n",
    "Method: Technique for age determination, V = Main Sequence turnoff fitting in visible CMD, H = Horizontal Branch\n",
    "\n",
    "Fig: Reference figure number\n",
    "\n",
    "Range: Age range\n",
    "\n",
    "HBtype: Horizontal Branch morphology index, neg = redHB, pos = blueHB"
   ]
  },
  {
   "cell_type": "markdown",
   "id": "3b09b65c",
   "metadata": {},
   "source": [
    "R_G: Distance from cluster to galactic center\n",
    "\n",
    "M_V: Absolute magnitude in V band\n",
    "\n",
    "v_e0: Speed needed to escape cluster at center\n",
    "\n",
    "log_sigma_0: cental velocity dispersion, movement of stars in core"
   ]
  },
  {
   "cell_type": "markdown",
   "id": "e6e5f92f",
   "metadata": {},
   "source": [
    "## 2) Displaying Relevant Data Types"
   ]
  },
  {
   "cell_type": "markdown",
   "id": "8d4057fa",
   "metadata": {},
   "source": [
    "Accreted Globular Clusters: Cluster that came from outside the Milky Way instead of made inside\n",
    "\n",
    "Aspects that help us know if a cluster is one:\n",
    "- Rotates with the same direction of the milky way, Prograde orbit\n",
    "  - Hard for milky way to make retrograde, but still possible  \n",
    "- Metallicity age relation generally follows a set track\n",
    "  - Acrete has less metallicity for its age due to less enrichment due to less generations of stars\n",
    "- Acreted are more further away from galaxy center as non-acreted are more likely to be in the center\n"
   ]
  },
  {
   "cell_type": "code",
   "execution_count": null,
   "id": "089070e7",
   "metadata": {},
   "outputs": [
    {
     "data": {
      "image/png": "[encoded data removed]",
      "text/plain": [
       "<Figure size 640x480 with 2 Axes>"
      ]
     },
     "metadata": {},
     "output_type": "display_data"
    }
   ],
   "source": [
    "plt.scatter(\n",
    "    vandenberg[\"Age\"],\n",
    "    vandenberg[\"FeH\"],\n",
    "    c=[vandenberg[\"R_G\"]],\n",
    ")\n",
    "\n",
    "# Change y-limit to be between 0 and 1.5\n",
    "plt.xlabel('Age (Gyr)')\n",
    "plt.ylabel('FeH')\n",
    "cbar = plt.colorbar()\n",
    "cbar.set_label('R_G')"
   ]
  }
 ],
 "metadata": {
  "kernelspec": {
   "display_name": "base",
   "language": "python",
   "name": "python3"
  },
  "language_info": {
   "codemirror_mode": {
    "name": "ipython",
    "version": 3
   },
   "file_extension": ".py",
   "mimetype": "text/x-python",
   "name": "python",
   "nbconvert_exporter": "python",
   "pygments_lexer": "ipython3",
   "version": "3.12.4"
  }
 },
 "nbformat": 4,
 "nbformat_minor": 5
}

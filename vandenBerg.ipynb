{
 "cells": [
  {
   "cell_type": "markdown",
   "id": "7dcecabd7ced730b",
   "metadata": {},
   "source": [
    "# Vandenberg Data"
   ]
  },
  {
   "cell_type": "code",
   "execution_count": 3,
   "id": "709eebc55b898d0b",
   "metadata": {},
   "outputs": [],
   "source": [
    "import matplotlib.pyplot as plt\n",
    "import numpy as np\n",
    "import pandas as pd"
   ]
  },
  {
   "cell_type": "markdown",
   "id": "c0f1169ecc18fe0d",
   "metadata": {},
   "source": [
    "## Importing the File"
   ]
  },
  {
   "cell_type": "code",
   "execution_count": null,
   "id": "6e9bcbc3",
   "metadata": {},
   "outputs": [],
   "source": []
  },
  {
   "cell_type": "code",
   "execution_count": 4,
   "id": "a7621f9ee389966d",
   "metadata": {},
   "outputs": [],
   "source": [
    "vandenberg = pd.read_csv('vandenBerg_table2.csv')"
   ]
  },
  {
   "cell_type": "code",
   "execution_count": 6,
   "id": "52f7b9b141733a6c",
   "metadata": {},
   "outputs": [
    {
     "data": {
      "text/html": [
       "<div>\n",
       "<style scoped>\n",
       "    .dataframe tbody tr th:only-of-type {\n",
       "        vertical-align: middle;\n",
       "    }\n",
       "\n",
       "    .dataframe tbody tr th {\n",
       "        vertical-align: top;\n",
       "    }\n",
       "\n",
       "    .dataframe thead th {\n",
       "        text-align: right;\n",
       "    }\n",
       "</style>\n",
       "<table border=\"1\" class=\"dataframe\">\n",
       "  <thead>\n",
       "    <tr style=\"text-align: right;\">\n",
       "      <th></th>\n",
       "      <th>#NGC</th>\n",
       "      <th>Name</th>\n",
       "      <th>FeH</th>\n",
       "      <th>Age</th>\n",
       "      <th>Age_err</th>\n",
       "      <th>Method</th>\n",
       "      <th>Figs</th>\n",
       "      <th>Range</th>\n",
       "      <th>HBtype</th>\n",
       "      <th>R_G</th>\n",
       "      <th>M_V</th>\n",
       "      <th>v_e0</th>\n",
       "      <th>log_sigma_0</th>\n",
       "    </tr>\n",
       "  </thead>\n",
       "  <tbody>\n",
       "    <tr>\n",
       "      <th>0</th>\n",
       "      <td>104</td>\n",
       "      <td>47Tuc</td>\n",
       "      <td>-0.76</td>\n",
       "      <td>11.75</td>\n",
       "      <td>0.25</td>\n",
       "      <td>V</td>\n",
       "      <td>14</td>\n",
       "      <td>11.50–11.75</td>\n",
       "      <td>-0.99</td>\n",
       "      <td>7.4</td>\n",
       "      <td>-9.42</td>\n",
       "      <td>54.8</td>\n",
       "      <td>5.061</td>\n",
       "    </tr>\n",
       "    <tr>\n",
       "      <th>1</th>\n",
       "      <td>288</td>\n",
       "      <td>XXXX</td>\n",
       "      <td>-1.32</td>\n",
       "      <td>11.50</td>\n",
       "      <td>0.38</td>\n",
       "      <td>H</td>\n",
       "      <td>24</td>\n",
       "      <td>NaN</td>\n",
       "      <td>0.98</td>\n",
       "      <td>12.0</td>\n",
       "      <td>-6.75</td>\n",
       "      <td>10.9</td>\n",
       "      <td>2.953</td>\n",
       "    </tr>\n",
       "    <tr>\n",
       "      <th>2</th>\n",
       "      <td>362</td>\n",
       "      <td>XXXX</td>\n",
       "      <td>-1.30</td>\n",
       "      <td>10.75</td>\n",
       "      <td>0.25</td>\n",
       "      <td>V</td>\n",
       "      <td>13</td>\n",
       "      <td>10.75–11.00</td>\n",
       "      <td>-0.87</td>\n",
       "      <td>9.4</td>\n",
       "      <td>-8.43</td>\n",
       "      <td>44.4</td>\n",
       "      <td>4.938</td>\n",
       "    </tr>\n",
       "    <tr>\n",
       "      <th>3</th>\n",
       "      <td>1261</td>\n",
       "      <td>XXXX</td>\n",
       "      <td>-1.27</td>\n",
       "      <td>10.75</td>\n",
       "      <td>0.25</td>\n",
       "      <td>V</td>\n",
       "      <td>13</td>\n",
       "      <td>10.75–11.25</td>\n",
       "      <td>-0.71</td>\n",
       "      <td>18.1</td>\n",
       "      <td>-7.80</td>\n",
       "      <td>23.6</td>\n",
       "      <td>3.913</td>\n",
       "    </tr>\n",
       "    <tr>\n",
       "      <th>4</th>\n",
       "      <td>1851</td>\n",
       "      <td>XXXX</td>\n",
       "      <td>-1.18</td>\n",
       "      <td>11.00</td>\n",
       "      <td>0.25</td>\n",
       "      <td>V</td>\n",
       "      <td>13</td>\n",
       "      <td>10.75–11.25</td>\n",
       "      <td>-0.32</td>\n",
       "      <td>16.6</td>\n",
       "      <td>-8.33</td>\n",
       "      <td>47.6</td>\n",
       "      <td>5.136</td>\n",
       "    </tr>\n",
       "  </tbody>\n",
       "</table>\n",
       "</div>"
      ],
      "text/plain": [
       "   #NGC   Name   FeH    Age  Age_err Method Figs        Range  HBtype   R_G  \\\n",
       "0   104  47Tuc -0.76  11.75     0.25      V   14  11.50–11.75   -0.99   7.4   \n",
       "1   288   XXXX -1.32  11.50     0.38      H   24          NaN    0.98  12.0   \n",
       "2   362   XXXX -1.30  10.75     0.25      V   13  10.75–11.00   -0.87   9.4   \n",
       "3  1261   XXXX -1.27  10.75     0.25      V   13  10.75–11.25   -0.71  18.1   \n",
       "4  1851   XXXX -1.18  11.00     0.25      V   13  10.75–11.25   -0.32  16.6   \n",
       "\n",
       "    M_V  v_e0  log_sigma_0  \n",
       "0 -9.42  54.8        5.061  \n",
       "1 -6.75  10.9        2.953  \n",
       "2 -8.43  44.4        4.938  \n",
       "3 -7.80  23.6        3.913  \n",
       "4 -8.33  47.6        5.136  "
      ]
     },
     "execution_count": 6,
     "metadata": {},
     "output_type": "execute_result"
    }
   ],
   "source": [
    "vandenberg.head()"
   ]
  },
  {
   "cell_type": "markdown",
   "id": "23ebe2a49fc537a3",
   "metadata": {},
   "source": [
    "We can access a specific column using `[]`\n",
    "```python\n",
    "df['column_name']\n",
    "```"
   ]
  },
  {
   "cell_type": "code",
   "execution_count": 7,
   "id": "91c983e5765b72ce",
   "metadata": {},
   "outputs": [],
   "source": [
    "# Lets checkout the visual magnitude of harris_p2"
   ]
  },
  {
   "cell_type": "code",
   "execution_count": 27,
   "id": "187360d580fd8012",
   "metadata": {},
   "outputs": [
    {
     "name": "stderr",
     "output_type": "stream",
     "text": [
      "<>:16: SyntaxWarning: invalid escape sequence '\\s'\n",
      "<>:16: SyntaxWarning: invalid escape sequence '\\s'\n",
      "C:\\Users\\yangf\\AppData\\Local\\Temp\\ipykernel_39284\\1296356406.py:16: SyntaxWarning: invalid escape sequence '\\s'\n",
      "  plt.ylabel('$\\sigma$ (km/s)')\n"
     ]
    },
    {
     "data": {
      "text/plain": [
       "<matplotlib.legend.Legend at 0x191ebc39580>"
      ]
     },
     "execution_count": 27,
     "metadata": {},
     "output_type": "execute_result"
    },
    {
     "data": {
      "image/png": "[encoded data removed]",
      "text/plain": [
       "<Figure size 640x480 with 1 Axes>"
      ]
     },
     "metadata": {},
     "output_type": "display_data"
    }
   ],
   "source": [
    "# Lets recreate the graph\n",
    "# Convert the column to a number and make any errors NaN (Not A Number)\n",
    "harris_p2['M_V,t'] = pd.to_numeric(harris_p2['M_V,t'], errors='coerce')\n",
    "\n",
    "# Plot the data\n",
    "plt.plot(\n",
    "    harris_p2['M_V,t'],\n",
    "    harris_p3['sig_v'],\n",
    "    'x',\n",
    "    label='globular clusters'\n",
    ")\n",
    "\n",
    "# Label the data \n",
    "plt.title(r'$\\sigma$ vs $M_v$')\n",
    "plt.xlabel('$M_v$ (mags)')\n",
    "plt.ylabel('$\\sigma$ (km/s)')\n",
    "plt.legend()"
   ]
  },
  {
   "cell_type": "markdown",
   "id": "8b0790144d8e8a3d",
   "metadata": {},
   "source": [
    "# Exercises"
   ]
  },
  {
   "cell_type": "markdown",
   "id": "4fa07e50ebfce3aa",
   "metadata": {},
   "source": [
    "## 1) Write some markdown "
   ]
  },
  {
   "cell_type": "markdown",
   "id": "6c4e23feb3e46f59",
   "metadata": {},
   "source": [
    "Write some markdown here"
   ]
  },
  {
   "cell_type": "markdown",
   "id": "ee9915b4d483fce0",
   "metadata": {},
   "source": [
    "## 2) CATALOG OF PARAMETERS FOR MILKY WAY GLOBULAR CLUSTERS\n",
    "### a) Import Harris 1 Data set and convert the metallicity column to numerical data\n",
    "### b) Plot X vs Z for globular clusters for clusters with metallicity greater than 0.8 and less than 0.8. (Hint: Harris 1 has X, Y, Z coordinates while Harris 2 has metallicity)\n",
    "### c) Count how many clusters have a metallicity greater than 0.8.\n",
    "\n",
    "A description of the data can be found in [Catalogue of Parameters for Milky Way Clusters by Harris](https://physics.mcmaster.ca/~harris/mwgc.dat) and [The Ages of 55 Globular Clusters as Determined Using an Improved \\Delta V^HB_TO Method along with Color-Magnitude Diagram Constraints, and Their Implications for Broader Issues](https://ui.adsabs.harvard.edu/abs/2013ApJ...775..134V/abstract)  \n",
    "Velocity Dispersion:https://astronomy.swin.edu.au/cosmos/v/Velocity+Dispersion  \n",
    "Absolute Magnitude:https://astronomy.swin.edu.au/cosmos/A/Absolute+Magnitude  \n",
    "Half Light Radius:https://astronomy.swin.edu.au/cosmos/H/Half-light+Radius"
   ]
  },
  {
   "cell_type": "code",
   "execution_count": 28,
   "id": "c640cf87e7ecd863",
   "metadata": {},
   "outputs": [
    {
     "data": {
      "text/html": [
       "<div>\n",
       "<style scoped>\n",
       "    .dataframe tbody tr th:only-of-type {\n",
       "        vertical-align: middle;\n",
       "    }\n",
       "\n",
       "    .dataframe tbody tr th {\n",
       "        vertical-align: top;\n",
       "    }\n",
       "\n",
       "    .dataframe thead th {\n",
       "        text-align: right;\n",
       "    }\n",
       "</style>\n",
       "<table border=\"1\" class=\"dataframe\">\n",
       "  <thead>\n",
       "    <tr style=\"text-align: right;\">\n",
       "      <th></th>\n",
       "      <th>ID</th>\n",
       "      <th>Name</th>\n",
       "      <th>RA</th>\n",
       "      <th>DEC</th>\n",
       "      <th>L</th>\n",
       "      <th>B</th>\n",
       "      <th>R_Sun</th>\n",
       "      <th>R_gc</th>\n",
       "      <th>X</th>\n",
       "      <th>Y</th>\n",
       "      <th>Z</th>\n",
       "    </tr>\n",
       "  </thead>\n",
       "  <tbody>\n",
       "    <tr>\n",
       "      <th>0</th>\n",
       "      <td>NGC 104</td>\n",
       "      <td>47 Tuc</td>\n",
       "      <td>00:24:05.67</td>\n",
       "      <td>-72:04:52.6</td>\n",
       "      <td>305.89</td>\n",
       "      <td>-44.89</td>\n",
       "      <td>4.5</td>\n",
       "      <td>7.4</td>\n",
       "      <td>1.9</td>\n",
       "      <td>-2.6</td>\n",
       "      <td>-3.1</td>\n",
       "    </tr>\n",
       "    <tr>\n",
       "      <th>1</th>\n",
       "      <td>NGC 288</td>\n",
       "      <td>NaN</td>\n",
       "      <td>00:52:45.24</td>\n",
       "      <td>-26:34:57.4</td>\n",
       "      <td>152.30</td>\n",
       "      <td>-89.38</td>\n",
       "      <td>8.9</td>\n",
       "      <td>12.0</td>\n",
       "      <td>-0.1</td>\n",
       "      <td>0.0</td>\n",
       "      <td>-8.9</td>\n",
       "    </tr>\n",
       "    <tr>\n",
       "      <th>2</th>\n",
       "      <td>NGC 362</td>\n",
       "      <td>NaN</td>\n",
       "      <td>01:03:14.26</td>\n",
       "      <td>-70:50:55.6</td>\n",
       "      <td>301.53</td>\n",
       "      <td>-46.25</td>\n",
       "      <td>8.6</td>\n",
       "      <td>9.4</td>\n",
       "      <td>3.1</td>\n",
       "      <td>-5.1</td>\n",
       "      <td>-6.2</td>\n",
       "    </tr>\n",
       "    <tr>\n",
       "      <th>3</th>\n",
       "      <td>Whiting 1</td>\n",
       "      <td>NaN</td>\n",
       "      <td>02:02:57</td>\n",
       "      <td>-03:15:10</td>\n",
       "      <td>161.22</td>\n",
       "      <td>-60.76</td>\n",
       "      <td>30.1</td>\n",
       "      <td>34.5</td>\n",
       "      <td>-13.9</td>\n",
       "      <td>4.7</td>\n",
       "      <td>-26.3</td>\n",
       "    </tr>\n",
       "    <tr>\n",
       "      <th>4</th>\n",
       "      <td>NGC 1261</td>\n",
       "      <td>NaN</td>\n",
       "      <td>03:12:16.21</td>\n",
       "      <td>-55:12:58.4</td>\n",
       "      <td>270.54</td>\n",
       "      <td>-52.12</td>\n",
       "      <td>16.3</td>\n",
       "      <td>18.1</td>\n",
       "      <td>0.1</td>\n",
       "      <td>-10.0</td>\n",
       "      <td>-12.9</td>\n",
       "    </tr>\n",
       "  </tbody>\n",
       "</table>\n",
       "</div>"
      ],
      "text/plain": [
       "          ID    Name           RA          DEC       L      B  R_Sun  R_gc  \\\n",
       "0    NGC 104  47 Tuc  00:24:05.67  -72:04:52.6  305.89 -44.89    4.5   7.4   \n",
       "1    NGC 288     NaN  00:52:45.24  -26:34:57.4  152.30 -89.38    8.9  12.0   \n",
       "2    NGC 362     NaN  01:03:14.26  -70:50:55.6  301.53 -46.25    8.6   9.4   \n",
       "3  Whiting 1     NaN     02:02:57    -03:15:10  161.22 -60.76   30.1  34.5   \n",
       "4   NGC 1261     NaN  03:12:16.21  -55:12:58.4  270.54 -52.12   16.3  18.1   \n",
       "\n",
       "      X     Y     Z  \n",
       "0   1.9  -2.6  -3.1  \n",
       "1  -0.1   0.0  -8.9  \n",
       "2   3.1  -5.1  -6.2  \n",
       "3 -13.9   4.7 -26.3  \n",
       "4   0.1 -10.0 -12.9  "
      ]
     },
     "execution_count": 28,
     "metadata": {},
     "output_type": "execute_result"
    }
   ],
   "source": [
    "# 2) a)\n",
    "harris_p1 = pd.read_csv('HarrisPartI.csv')\n",
    "harris_p1.head()"
   ]
  },
  {
   "cell_type": "code",
   "execution_count": 10,
   "id": "765b4264d1550e0e",
   "metadata": {},
   "outputs": [],
   "source": [
    "# 2) b)"
   ]
  },
  {
   "cell_type": "code",
   "execution_count": 11,
   "id": "79e6fce47abe760a",
   "metadata": {},
   "outputs": [],
   "source": [
    "# 2) c)"
   ]
  },
  {
   "cell_type": "markdown",
   "id": "f30bf24ced2cb966",
   "metadata": {},
   "source": [
    "## 3) The Ages of 55 Globular Clusters as Determined Using an Improved \\Delta V^HB_TO Method along with Color-Magnitude Diagram Constraints, and Their Implications for Broader Issues\n",
    "### a) Merge Harris 1 and vanderBurg together to one dataframe and save it\n",
    "### b) How many globular clusters are common between the two surveys?\n",
    "\n"
   ]
  },
  {
   "cell_type": "markdown",
   "id": "649047bb9962236a",
   "metadata": {},
   "source": [
    "Hint for these exercises, you will need a bit more help.\n",
    "\n",
    "Hint 1: vandenBurg stores the NGC id (New General Catalogue) (i.e. 111 means NGC 111)  \n",
    "Hint 2:\n",
    "Let's consider the two dataframes.\n",
    "They share data regarding the same star, but have slightly different naming conventions that makes it hard to consolidate.\n",
    "\n",
    "Dataframe 1:\n",
    "| id          | height      |\n",
    "| ----------- | ----------- |\n",
    "| 1           | 1           |\n",
    "| 2           | 2           |\n",
    "| 3           | 3           |\n",
    "\n",
    "Dataframe 2:\n",
    "\n",
    "| star_id | height |\n",
    "|---------|--------|\n",
    "| Star 1  | 1      |\n",
    "| Star 2  | 2      |\n",
    "| Star 4  | 4      |"
   ]
  },
  {
   "cell_type": "code",
   "execution_count": 29,
   "id": "dbe985b8a0a82781",
   "metadata": {},
   "outputs": [],
   "source": [
    "df1 = pd.DataFrame({\n",
    "    'id': ['1', '2', '3'],\n",
    "    'height': ['1', '2', '3']\n",
    "})\n",
    "df2 = pd.DataFrame({\n",
    "    'star_id': ['Star 1', 'Star 2', 'Star 4'],\n",
    "    'width': ['1', '2', '4']\n",
    "})"
   ]
  },
  {
   "cell_type": "markdown",
   "id": "c6f15508cf312c2e",
   "metadata": {},
   "source": [
    "To merge these two dataframes we need to complete a few operations:\n",
    "1. Rename the column to be the same name to allow for the join\n",
    "2. Update `id` column to mean the same format `Star X`\n",
    "3. Save the dataframe"
   ]
  },
  {
   "cell_type": "markdown",
   "id": "2bd72c9a8fa77c65",
   "metadata": {},
   "source": [
    "To rename columns, we can use \n",
    "`df.rename(columns={'old_column_name': 'new_column_name'}, inplace=True)`"
   ]
  },
  {
   "cell_type": "code",
   "execution_count": 30,
   "id": "6c8309f97db89a77",
   "metadata": {},
   "outputs": [
    {
     "data": {
      "text/html": [
       "<div>\n",
       "<style scoped>\n",
       "    .dataframe tbody tr th:only-of-type {\n",
       "        vertical-align: middle;\n",
       "    }\n",
       "\n",
       "    .dataframe tbody tr th {\n",
       "        vertical-align: top;\n",
       "    }\n",
       "\n",
       "    .dataframe thead th {\n",
       "        text-align: right;\n",
       "    }\n",
       "</style>\n",
       "<table border=\"1\" class=\"dataframe\">\n",
       "  <thead>\n",
       "    <tr style=\"text-align: right;\">\n",
       "      <th></th>\n",
       "      <th>star_id</th>\n",
       "      <th>height</th>\n",
       "    </tr>\n",
       "  </thead>\n",
       "  <tbody>\n",
       "    <tr>\n",
       "      <th>0</th>\n",
       "      <td>1</td>\n",
       "      <td>1</td>\n",
       "    </tr>\n",
       "    <tr>\n",
       "      <th>1</th>\n",
       "      <td>2</td>\n",
       "      <td>2</td>\n",
       "    </tr>\n",
       "    <tr>\n",
       "      <th>2</th>\n",
       "      <td>3</td>\n",
       "      <td>3</td>\n",
       "    </tr>\n",
       "  </tbody>\n",
       "</table>\n",
       "</div>"
      ],
      "text/plain": [
       "  star_id height\n",
       "0       1      1\n",
       "1       2      2\n",
       "2       3      3"
      ]
     },
     "execution_count": 30,
     "metadata": {},
     "output_type": "execute_result"
    }
   ],
   "source": [
    "# renaming the columns in df1 to be 'star_id`\n",
    "df1.rename(columns={'id': 'star_id'}, inplace=True)\n",
    "df1"
   ]
  },
  {
   "cell_type": "markdown",
   "id": "9abdc1d328e957a4",
   "metadata": {},
   "source": [
    "Apply an operation using `apply` method `df['column'] = df['column'].apply(func))`"
   ]
  },
  {
   "cell_type": "code",
   "execution_count": 14,
   "id": "acd91fae306d4a2d",
   "metadata": {
    "jupyter": {
     "is_executing": true
    }
   },
   "outputs": [
    {
     "data": {
      "text/html": [
       "<div>\n",
       "<style scoped>\n",
       "    .dataframe tbody tr th:only-of-type {\n",
       "        vertical-align: middle;\n",
       "    }\n",
       "\n",
       "    .dataframe tbody tr th {\n",
       "        vertical-align: top;\n",
       "    }\n",
       "\n",
       "    .dataframe thead th {\n",
       "        text-align: right;\n",
       "    }\n",
       "</style>\n",
       "<table border=\"1\" class=\"dataframe\">\n",
       "  <thead>\n",
       "    <tr style=\"text-align: right;\">\n",
       "      <th></th>\n",
       "      <th>star_id</th>\n",
       "      <th>height</th>\n",
       "    </tr>\n",
       "  </thead>\n",
       "  <tbody>\n",
       "    <tr>\n",
       "      <th>0</th>\n",
       "      <td>Star 1</td>\n",
       "      <td>1</td>\n",
       "    </tr>\n",
       "    <tr>\n",
       "      <th>1</th>\n",
       "      <td>Star 2</td>\n",
       "      <td>2</td>\n",
       "    </tr>\n",
       "    <tr>\n",
       "      <th>2</th>\n",
       "      <td>Star 3</td>\n",
       "      <td>3</td>\n",
       "    </tr>\n",
       "  </tbody>\n",
       "</table>\n",
       "</div>"
      ],
      "text/plain": [
       "  star_id height\n",
       "0  Star 1      1\n",
       "1  Star 2      2\n",
       "2  Star 3      3"
      ]
     },
     "execution_count": 14,
     "metadata": {},
     "output_type": "execute_result"
    }
   ],
   "source": [
    "# Add Star to the start of the id column for dataframe 1 to match dataframe 2\n",
    "def add_star(s):\n",
    "    return \"Star \" + s\n",
    "df1['star_id'] = df1['star_id'].apply(add_star)\n",
    "df1"
   ]
  },
  {
   "cell_type": "markdown",
   "id": "ba1502351a8b7ab2",
   "metadata": {},
   "source": [
    "Merge dataframes on common column using `pd.merge`\n",
    "Example: `df = pd.merge(df1, df2, on='star_id')`"
   ]
  },
  {
   "cell_type": "code",
   "execution_count": 15,
   "id": "4cc1bce7b64a8fbd",
   "metadata": {},
   "outputs": [
    {
     "data": {
      "text/html": [
       "<div>\n",
       "<style scoped>\n",
       "    .dataframe tbody tr th:only-of-type {\n",
       "        vertical-align: middle;\n",
       "    }\n",
       "\n",
       "    .dataframe tbody tr th {\n",
       "        vertical-align: top;\n",
       "    }\n",
       "\n",
       "    .dataframe thead th {\n",
       "        text-align: right;\n",
       "    }\n",
       "</style>\n",
       "<table border=\"1\" class=\"dataframe\">\n",
       "  <thead>\n",
       "    <tr style=\"text-align: right;\">\n",
       "      <th></th>\n",
       "      <th>star_id</th>\n",
       "      <th>height</th>\n",
       "      <th>width</th>\n",
       "    </tr>\n",
       "  </thead>\n",
       "  <tbody>\n",
       "    <tr>\n",
       "      <th>0</th>\n",
       "      <td>Star 1</td>\n",
       "      <td>1</td>\n",
       "      <td>1</td>\n",
       "    </tr>\n",
       "    <tr>\n",
       "      <th>1</th>\n",
       "      <td>Star 2</td>\n",
       "      <td>2</td>\n",
       "      <td>2</td>\n",
       "    </tr>\n",
       "  </tbody>\n",
       "</table>\n",
       "</div>"
      ],
      "text/plain": [
       "  star_id height width\n",
       "0  Star 1      1     1\n",
       "1  Star 2      2     2"
      ]
     },
     "execution_count": 15,
     "metadata": {},
     "output_type": "execute_result"
    }
   ],
   "source": [
    "# Merge the two dataframes on 'star_id'\n",
    "df = pd.merge(df1, df2, on='star_id')\n",
    "df"
   ]
  },
  {
   "cell_type": "markdown",
   "id": "478813ca53a501ac",
   "metadata": {},
   "source": [
    "Save to csv file for later using `df.to_csv('file_name.csv, index=False)`"
   ]
  },
  {
   "cell_type": "code",
   "execution_count": 16,
   "id": "d8f0c4fb049ad300",
   "metadata": {},
   "outputs": [],
   "source": [
    "# Save id\n",
    "df.to_csv('dataframe.csv', index=False)"
   ]
  },
  {
   "cell_type": "code",
   "execution_count": 17,
   "id": "a540728152c1c937",
   "metadata": {},
   "outputs": [],
   "source": [
    "# 3) a)"
   ]
  },
  {
   "cell_type": "code",
   "execution_count": 18,
   "id": "64f0fb7a4a3f4b96",
   "metadata": {},
   "outputs": [],
   "source": [
    "# 3) b)"
   ]
  }
 ],
 "metadata": {
  "kernelspec": {
   "display_name": "base",
   "language": "python",
   "name": "python3"
  },
  "language_info": {
   "codemirror_mode": {
    "name": "ipython",
    "version": 3
   },
   "file_extension": ".py",
   "mimetype": "text/x-python",
   "name": "python",
   "nbconvert_exporter": "python",
   "pygments_lexer": "ipython3",
   "version": "3.12.4"
  }
 },
 "nbformat": 4,
 "nbformat_minor": 5
}
